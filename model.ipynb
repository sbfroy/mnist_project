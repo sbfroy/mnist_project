{
 "cells": [
  {
   "cell_type": "code",
   "outputs": [],
   "source": [
    "from torchvision import datasets, transforms\n",
    "\n",
    "# Loading the training and testing datasets\n",
    "\n",
    "train = datasets.MNIST(root='mnist', train=True, download=True, transform=transforms.ToTensor())\n",
    "test = datasets.MNIST(root='mnist', train=False, download=True, transform=transforms.ToTensor())"
   ],
   "metadata": {
    "collapsed": false,
    "ExecuteTime": {
     "end_time": "2024-04-11T11:44:21.098127Z",
     "start_time": "2024-04-11T11:44:15.489602Z"
    }
   },
   "id": "b43c27357a003cf7",
   "execution_count": 1
  },
  {
   "cell_type": "code",
   "outputs": [],
   "source": [
    "import torch\n",
    "\n",
    "device = torch.device('cuda' if torch.cuda.is_available() else 'cpu')"
   ],
   "metadata": {
    "collapsed": false,
    "ExecuteTime": {
     "end_time": "2024-04-11T11:44:23.329548Z",
     "start_time": "2024-04-11T11:44:23.323191Z"
    }
   },
   "id": "892c3e445d327c79",
   "execution_count": 2
  },
  {
   "cell_type": "code",
   "outputs": [
    {
     "data": {
      "text/plain": "<Figure size 640x480 with 1 Axes>",
      "image/png": "[encoded data removed]"
     },
     "metadata": {},
     "output_type": "display_data"
    }
   ],
   "source": [
    "import matplotlib.pyplot as plt\n",
    "\n",
    "image, number = train[2]\n",
    "\n",
    "plt.imshow(image.squeeze(), cmap='gray')\n",
    "plt.title(f'{number}')\n",
    "plt.show()"
   ],
   "metadata": {
    "collapsed": false,
    "ExecuteTime": {
     "end_time": "2024-04-11T11:44:27.258327Z",
     "start_time": "2024-04-11T11:44:25.346439Z"
    }
   },
   "id": "16f5730182e4539a",
   "execution_count": 3
  },
  {
   "cell_type": "code",
   "outputs": [],
   "source": [
    "from skimage.morphology import skeletonize, dilation, square\n",
    "from torch.utils.data import TensorDataset\n",
    "\n",
    "# Skeletonize all the data (Sacrificing some acc for speed and for fun)\n",
    "\n",
    "def skeletonization(dataset):\n",
    "    skeletons = []\n",
    "    labels = []\n",
    "    \n",
    "    for image, number in dataset:\n",
    "        img = image.squeeze().numpy()\n",
    "        img = dilation(img, square(1))\n",
    "        img = skeletonize(img, method='lee')\n",
    "        \n",
    "        img = torch.tensor(img, dtype=torch.float32).unsqueeze(0) # Back to Tensor\n",
    "        \n",
    "        skeletons.append(img)\n",
    "        labels.append(number)\n",
    "    \n",
    "    return skeletons, labels\n",
    "\n",
    "train_images, train_labels = skeletonization(train)\n",
    "test_images, test_labels = skeletonization(test)\n",
    "\n",
    "train_tensor_img = torch.stack(train_images)\n",
    "train_tensor_label = torch.tensor(train_labels)\n",
    "\n",
    "test_tensor_img = torch.stack(test_images)\n",
    "test_tensor_label = torch.tensor(test_labels)\n",
    "\n",
    "train = TensorDataset(train_tensor_img, train_tensor_label)\n",
    "test = TensorDataset(test_tensor_img, test_tensor_label)"
   ],
   "metadata": {
    "collapsed": false,
    "ExecuteTime": {
     "end_time": "2024-04-11T11:45:12.999330Z",
     "start_time": "2024-04-11T11:44:28.496933Z"
    }
   },
   "id": "adb1f79c11cd20ab",
   "execution_count": 4
  },
  {
   "cell_type": "code",
   "outputs": [
    {
     "data": {
      "text/plain": "<Figure size 640x480 with 1 Axes>",
      "image/png": "[encoded data removed]"
     },
     "metadata": {},
     "output_type": "display_data"
    }
   ],
   "source": [
    "image, number = train[2]\n",
    "\n",
    "plt.imshow(image.squeeze(), cmap='gray')\n",
    "plt.title(f'{number}')\n",
    "plt.show()"
   ],
   "metadata": {
    "collapsed": false,
    "ExecuteTime": {
     "end_time": "2024-04-11T11:45:16.197376Z",
     "start_time": "2024-04-11T11:45:15.954297Z"
    }
   },
   "id": "42af78c08e39340c",
   "execution_count": 5
  },
  {
   "cell_type": "code",
   "outputs": [],
   "source": [
    "from torch.utils.data import DataLoader\n",
    "\n",
    "# Making use of data loaders\n",
    "\n",
    "train_loader = DataLoader(train, batch_size=128, shuffle=True)\n",
    "test_loader = DataLoader(test, batch_size=128, shuffle=False)"
   ],
   "metadata": {
    "collapsed": false,
    "ExecuteTime": {
     "end_time": "2024-04-11T11:45:17.770671Z",
     "start_time": "2024-04-11T11:45:17.751679Z"
    }
   },
   "id": "70066d4b949a9131",
   "execution_count": 6
  },
  {
   "cell_type": "code",
   "outputs": [
    {
     "data": {
      "text/plain": "469"
     },
     "execution_count": 7,
     "metadata": {},
     "output_type": "execute_result"
    }
   ],
   "source": [
    "len(train_loader)"
   ],
   "metadata": {
    "collapsed": false,
    "ExecuteTime": {
     "end_time": "2024-04-11T11:45:19.327626Z",
     "start_time": "2024-04-11T11:45:19.304408Z"
    }
   },
   "id": "97677b0022cdc5a7",
   "execution_count": 7
  },
  {
   "cell_type": "code",
   "outputs": [
    {
     "name": "stdout",
     "output_type": "stream",
     "text": [
      "epoch 1/2, step 100/469, loss = 0.5286524295806885\n",
      "epoch 1/2, step 200/469, loss = 0.8582267761230469\n",
      "epoch 1/2, step 300/469, loss = 0.553737461566925\n",
      "epoch 1/2, step 400/469, loss = 0.4132741391658783\n",
      "epoch 2/2, step 100/469, loss = 0.45494982600212097\n",
      "epoch 2/2, step 200/469, loss = 0.43423616886138916\n",
      "epoch 2/2, step 300/469, loss = 0.327576220035553\n",
      "epoch 2/2, step 400/469, loss = 0.4968832731246948\n",
      "accuracy = 87.46\n"
     ]
    }
   ],
   "source": [
    "import torch.nn as nn\n",
    "import torch.optim as optim\n",
    "\n",
    "class SimpleNeuralNet(nn.Module):\n",
    "    def __init__(self, input_dim, hidden_dim, output_dim):\n",
    "        super(SimpleNeuralNet, self).__init__()\n",
    "        self.l1 = nn.Linear(input_dim, hidden_dim) # First fully connected layer\n",
    "        self.relu = nn.ReLU() # The activation function\n",
    "        self.l2 = nn.Linear(hidden_dim, output_dim) # Second fully connected layer\n",
    "    \n",
    "    def forward(self, x):\n",
    "        x = self.l1(x)\n",
    "        x = self.relu(x)\n",
    "        x = self.l2(x)\n",
    "        return x\n",
    "    \n",
    "input_dim = 784 # No. pixels\n",
    "hidden_dim = 100 # No. neurons in the hidden layer\n",
    "output_dim = 10 # No. output classes \n",
    "\n",
    "model = SimpleNeuralNet(input_dim, hidden_dim, output_dim)\n",
    "\n",
    "n_o_f_epochs = 2\n",
    "n_o_f_batches = len(train_loader)\n",
    "lr = 0.007\n",
    "\n",
    "loss = nn.CrossEntropyLoss() # Loss function\n",
    "optimizer = optim.Adam(model.parameters(), lr=lr)\n",
    "\n",
    "losses = []\n",
    "\n",
    "# Training loop\n",
    "\n",
    "for epoch in range(n_o_f_epochs):\n",
    "    for i, (images, labels) in enumerate(train_loader):\n",
    "        images = images.reshape(-1, 28 * 28).to(device)\n",
    "        labels = labels.to(device)\n",
    "        \n",
    "        # Forward\n",
    "        \n",
    "        outputs = model(images) # The predictions\n",
    "        curr_loss = loss(outputs, labels) # Predictions compared to actual labels\n",
    "        losses.append(curr_loss.item())\n",
    "        \n",
    "        # Backward\n",
    "        \n",
    "        optimizer.zero_grad() # Clears gradients\n",
    "        curr_loss.backward() \n",
    "        optimizer.step() # Parameter update\n",
    "        \n",
    "        if (i+1) % 100 == 0:\n",
    "            print(f'epoch {epoch+1}/{n_o_f_epochs}, step {i+1}/{n_o_f_batches}, loss = {curr_loss.item()}')\n",
    "\n",
    "# Testing\n",
    "\n",
    "with torch.no_grad(): # Disables gradient computation\n",
    "    n_o_f_correct = 0\n",
    "    n_o_f_t_samples = 0\n",
    "    \n",
    "    for images, labels in test_loader:\n",
    "        images = images.reshape(-1, 28 * 28).to(device)\n",
    "        labels = labels.to(device)\n",
    "        \n",
    "        outputs = model(images)\n",
    "        _, pred = torch.max(outputs, 1)\n",
    "        \n",
    "        n_o_f_t_samples += labels.shape[0]\n",
    "        n_o_f_correct += (pred == labels).sum().item()\n",
    "        \n",
    "    acc = 100.0 * n_o_f_correct / n_o_f_t_samples\n",
    "    print(f'accuracy = {acc}')"
   ],
   "metadata": {
    "collapsed": false,
    "ExecuteTime": {
     "end_time": "2024-04-11T11:45:27.340872Z",
     "start_time": "2024-04-11T11:45:20.543135Z"
    }
   },
   "id": "bf170ac764cfa08e",
   "execution_count": 8
  },
  {
   "cell_type": "code",
   "outputs": [
    {
     "data": {
      "text/plain": "<Figure size 640x480 with 1 Axes>",
      "image/png": "[encoded data removed]"
     },
     "metadata": {},
     "output_type": "display_data"
    }
   ],
   "source": [
    "plt.plot(losses)\n",
    "plt.xlabel('Batch Number')\n",
    "plt.ylabel('Loss')\n",
    "plt.show()"
   ],
   "metadata": {
    "collapsed": false,
    "ExecuteTime": {
     "end_time": "2024-04-11T11:45:30.259116Z",
     "start_time": "2024-04-11T11:45:30.022266Z"
    }
   },
   "id": "a57ee33dd864b07c",
   "execution_count": 9
  },
  {
   "cell_type": "code",
   "outputs": [],
   "source": [],
   "metadata": {
    "collapsed": false,
    "ExecuteTime": {
     "end_time": "2024-04-11T11:34:02.861581Z",
     "start_time": "2024-04-11T11:34:02.849579Z"
    }
   },
   "id": "a9250b13bc8a0fc1",
   "execution_count": 30
  }
 ],
 "metadata": {
  "kernelspec": {
   "display_name": "Python 3",
   "language": "python",
   "name": "python3"
  },
  "language_info": {
   "codemirror_mode": {
    "name": "ipython",
    "version": 2
   },
   "file_extension": ".py",
   "mimetype": "text/x-python",
   "name": "python",
   "nbconvert_exporter": "python",
   "pygments_lexer": "ipython2",
   "version": "2.7.6"
  }
 },
 "nbformat": 4,
 "nbformat_minor": 5
}
